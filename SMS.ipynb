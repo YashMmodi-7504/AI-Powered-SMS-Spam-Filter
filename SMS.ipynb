{
  "nbformat": 4,
  "nbformat_minor": 0,
  "metadata": {
    "colab": {
      "provenance": []
    },
    "kernelspec": {
      "name": "python3",
      "display_name": "Python 3"
    },
    "language_info": {
      "name": "python"
    }
  },
  "cells": [
    {
      "cell_type": "markdown",
      "source": [
        "# **SMS**"
      ],
      "metadata": {
        "id": "pP30erbleH_V"
      }
    },
    {
      "cell_type": "markdown",
      "source": [
        "### Import The Required Libraries"
      ],
      "metadata": {
        "id": "P9Ypy_fGePGO"
      }
    },
    {
      "cell_type": "code",
      "source": [
        "# This Library helps to convert different data files into Pandas Data frames.\n",
        "import pandas as pd\n",
        "\n",
        "# This library helps us to perform numerical operations on different Data Structures.\n",
        "import numpy as np\n",
        "\n",
        "#This both libraries are used to perform visualization in Python Environment\n",
        "import matplotlib.pyplot as plt\n",
        "import seaborn as sns"
      ],
      "metadata": {
        "id": "RKP7revSeOqE"
      },
      "execution_count": null,
      "outputs": []
    },
    {
      "cell_type": "markdown",
      "source": [
        "### Load the Dataset"
      ],
      "metadata": {
        "id": "QIS79AuMeUB-"
      }
    },
    {
      "cell_type": "code",
      "execution_count": null,
      "metadata": {
        "id": "sZ47MVugdLVe"
      },
      "outputs": [],
      "source": [
        "# Read the dataset from the Local\n",
        "df_SMS = pd.read_csv('message_dataset_50k.csv')"
      ]
    },
    {
      "cell_type": "markdown",
      "source": [
        "# **DATA OVERVIEW**"
      ],
      "metadata": {
        "id": "5omcNLi4eigY"
      }
    },
    {
      "cell_type": "markdown",
      "source": [
        "### Information about the Data Source"
      ],
      "metadata": {
        "id": "gc6Qzv62eo2K"
      }
    },
    {
      "cell_type": "markdown",
      "source": [
        "### Information about the Columns"
      ],
      "metadata": {
        "id": "uoBPwSFxewLN"
      }
    },
    {
      "cell_type": "code",
      "source": [
        "df_SMS.columns"
      ],
      "metadata": {
        "colab": {
          "base_uri": "https://localhost:8080/"
        },
        "id": "Vrvlmd34efr4",
        "outputId": "7fd36aec-a89b-478e-d6bb-b65f9200c185"
      },
      "execution_count": null,
      "outputs": [
        {
          "output_type": "execute_result",
          "data": {
            "text/plain": [
              "Index(['Message', 'Category'], dtype='object')"
            ]
          },
          "metadata": {},
          "execution_count": 3
        }
      ]
    },
    {
      "cell_type": "markdown",
      "source": [
        "### Column Description\n",
        "\n",
        "1. **Message**\n",
        "\n",
        "   * Type: **Text (String)**\n",
        "   * Description: The actual **SMS / A2P message** sent.\n",
        "   * Example:\n",
        "\n",
        "     * \"Win a FREE trip to Goa! Click here: xyz.com\"\n",
        "     * \"Meeting at 4 pm in the office.\"\n",
        "   * Purpose: This is the **input feature** (what we’ll analyze to detect spam/ham).\n",
        "\n",
        "\n",
        "\n",
        "2. **Category**\n",
        "\n",
        "   * Type: **Categorical (Label)**\n",
        "   * Description: The class assigned to the message. Usually **two categories**:\n",
        "\n",
        "     * \"spam\" → Message is unwanted/promotional/fraud.\n",
        "     * \"ham\" → Message is normal/legitimate.\n",
        "   * Example:\n",
        "\n",
        "     * \"spam\" → \"Get 50% OFF on loans today!!\"`\n",
        "     * \"ham\" → \"Don’t forget your doctor appointment tomorrow.\"`\n",
        "   * Purpose: This is the **target variable** (what we’ll predict using ML).\n",
        "\n"
      ],
      "metadata": {
        "id": "riWO8ZR-fWeY"
      }
    },
    {
      "cell_type": "markdown",
      "source": [
        "### Shape of Data"
      ],
      "metadata": {
        "id": "Wdxi-xps3CPW"
      }
    },
    {
      "cell_type": "code",
      "source": [
        "# Shape of data\n",
        "df_SMS.shape"
      ],
      "metadata": {
        "id": "K2LoLg4ge4wI",
        "colab": {
          "base_uri": "https://localhost:8080/"
        },
        "outputId": "d125929a-0e0c-4841-adf7-40652c634202"
      },
      "execution_count": null,
      "outputs": [
        {
          "output_type": "execute_result",
          "data": {
            "text/plain": [
              "(50000, 2)"
            ]
          },
          "metadata": {},
          "execution_count": 4
        }
      ]
    },
    {
      "cell_type": "markdown",
      "source": [
        "### Interpretation\n",
        "\n",
        "* We have 50000 observations and 2 attributes."
      ],
      "metadata": {
        "id": "XKrMkkLM3GEa"
      }
    },
    {
      "cell_type": "markdown",
      "source": [
        "## Check the Data Type and Data size"
      ],
      "metadata": {
        "id": "H2sZ5eMS3S0I"
      }
    },
    {
      "cell_type": "code",
      "source": [
        "# Check the info\n",
        "df_SMS.info()"
      ],
      "metadata": {
        "colab": {
          "base_uri": "https://localhost:8080/"
        },
        "id": "l32nzNKp3A31",
        "outputId": "e4b138f8-f9ec-43c8-ad3b-2ad5371cfe5f"
      },
      "execution_count": null,
      "outputs": [
        {
          "output_type": "stream",
          "name": "stdout",
          "text": [
            "<class 'pandas.core.frame.DataFrame'>\n",
            "RangeIndex: 50000 entries, 0 to 49999\n",
            "Data columns (total 2 columns):\n",
            " #   Column    Non-Null Count  Dtype \n",
            "---  ------    --------------  ----- \n",
            " 0   Message   50000 non-null  object\n",
            " 1   Category  50000 non-null  object\n",
            "dtypes: object(2)\n",
            "memory usage: 781.4+ KB\n"
          ]
        }
      ]
    },
    {
      "cell_type": "markdown",
      "source": [
        "### Interpretation\n",
        "\n",
        "We have 2 Categorical Columns.\n",
        "There are no NULL records present.\n",
        "\n",
        "The Data Size 781.4+ KB"
      ],
      "metadata": {
        "id": "IGeodSnF3d8G"
      }
    },
    {
      "cell_type": "markdown",
      "source": [
        "# **BASIC STATISTICS OF DATA**"
      ],
      "metadata": {
        "id": "Goy_G74Q4qj7"
      }
    },
    {
      "cell_type": "code",
      "source": [
        "# Describe the data\n",
        "df_SMS.describe(include='all').T"
      ],
      "metadata": {
        "colab": {
          "base_uri": "https://localhost:8080/",
          "height": 112
        },
        "id": "3MP9_kbB3Zx-",
        "outputId": "20f6f1b2-a178-4a8f-e818-4cb0a9e38ccb"
      },
      "execution_count": null,
      "outputs": [
        {
          "output_type": "execute_result",
          "data": {
            "text/plain": [
              "          count unique                                              top   freq\n",
              "Message   50000   4220  You have successfully logged into your account.   1015\n",
              "Category  50000      3                                      Promotional  19888"
            ],
            "text/html": [
              "\n",
              "  <div id=\"df-50f4388a-39a4-4312-96c7-fcbb9f776697\" class=\"colab-df-container\">\n",
              "    <div>\n",
              "<style scoped>\n",
              "    .dataframe tbody tr th:only-of-type {\n",
              "        vertical-align: middle;\n",
              "    }\n",
              "\n",
              "    .dataframe tbody tr th {\n",
              "        vertical-align: top;\n",
              "    }\n",
              "\n",
              "    .dataframe thead th {\n",
              "        text-align: right;\n",
              "    }\n",
              "</style>\n",
              "<table border=\"1\" class=\"dataframe\">\n",
              "  <thead>\n",
              "    <tr style=\"text-align: right;\">\n",
              "      <th></th>\n",
              "      <th>count</th>\n",
              "      <th>unique</th>\n",
              "      <th>top</th>\n",
              "      <th>freq</th>\n",
              "    </tr>\n",
              "  </thead>\n",
              "  <tbody>\n",
              "    <tr>\n",
              "      <th>Message</th>\n",
              "      <td>50000</td>\n",
              "      <td>4220</td>\n",
              "      <td>You have successfully logged into your account.</td>\n",
              "      <td>1015</td>\n",
              "    </tr>\n",
              "    <tr>\n",
              "      <th>Category</th>\n",
              "      <td>50000</td>\n",
              "      <td>3</td>\n",
              "      <td>Promotional</td>\n",
              "      <td>19888</td>\n",
              "    </tr>\n",
              "  </tbody>\n",
              "</table>\n",
              "</div>\n",
              "    <div class=\"colab-df-buttons\">\n",
              "\n",
              "  <div class=\"colab-df-container\">\n",
              "    <button class=\"colab-df-convert\" onclick=\"convertToInteractive('df-50f4388a-39a4-4312-96c7-fcbb9f776697')\"\n",
              "            title=\"Convert this dataframe to an interactive table.\"\n",
              "            style=\"display:none;\">\n",
              "\n",
              "  <svg xmlns=\"http://www.w3.org/2000/svg\" height=\"24px\" viewBox=\"0 -960 960 960\">\n",
              "    <path d=\"M120-120v-720h720v720H120Zm60-500h600v-160H180v160Zm220 220h160v-160H400v160Zm0 220h160v-160H400v160ZM180-400h160v-160H180v160Zm440 0h160v-160H620v160ZM180-180h160v-160H180v160Zm440 0h160v-160H620v160Z\"/>\n",
              "  </svg>\n",
              "    </button>\n",
              "\n",
              "  <style>\n",
              "    .colab-df-container {\n",
              "      display:flex;\n",
              "      gap: 12px;\n",
              "    }\n",
              "\n",
              "    .colab-df-convert {\n",
              "      background-color: #E8F0FE;\n",
              "      border: none;\n",
              "      border-radius: 50%;\n",
              "      cursor: pointer;\n",
              "      display: none;\n",
              "      fill: #1967D2;\n",
              "      height: 32px;\n",
              "      padding: 0 0 0 0;\n",
              "      width: 32px;\n",
              "    }\n",
              "\n",
              "    .colab-df-convert:hover {\n",
              "      background-color: #E2EBFA;\n",
              "      box-shadow: 0px 1px 2px rgba(60, 64, 67, 0.3), 0px 1px 3px 1px rgba(60, 64, 67, 0.15);\n",
              "      fill: #174EA6;\n",
              "    }\n",
              "\n",
              "    .colab-df-buttons div {\n",
              "      margin-bottom: 4px;\n",
              "    }\n",
              "\n",
              "    [theme=dark] .colab-df-convert {\n",
              "      background-color: #3B4455;\n",
              "      fill: #D2E3FC;\n",
              "    }\n",
              "\n",
              "    [theme=dark] .colab-df-convert:hover {\n",
              "      background-color: #434B5C;\n",
              "      box-shadow: 0px 1px 3px 1px rgba(0, 0, 0, 0.15);\n",
              "      filter: drop-shadow(0px 1px 2px rgba(0, 0, 0, 0.3));\n",
              "      fill: #FFFFFF;\n",
              "    }\n",
              "  </style>\n",
              "\n",
              "    <script>\n",
              "      const buttonEl =\n",
              "        document.querySelector('#df-50f4388a-39a4-4312-96c7-fcbb9f776697 button.colab-df-convert');\n",
              "      buttonEl.style.display =\n",
              "        google.colab.kernel.accessAllowed ? 'block' : 'none';\n",
              "\n",
              "      async function convertToInteractive(key) {\n",
              "        const element = document.querySelector('#df-50f4388a-39a4-4312-96c7-fcbb9f776697');\n",
              "        const dataTable =\n",
              "          await google.colab.kernel.invokeFunction('convertToInteractive',\n",
              "                                                    [key], {});\n",
              "        if (!dataTable) return;\n",
              "\n",
              "        const docLinkHtml = 'Like what you see? Visit the ' +\n",
              "          '<a target=\"_blank\" href=https://colab.research.google.com/notebooks/data_table.ipynb>data table notebook</a>'\n",
              "          + ' to learn more about interactive tables.';\n",
              "        element.innerHTML = '';\n",
              "        dataTable['output_type'] = 'display_data';\n",
              "        await google.colab.output.renderOutput(dataTable, element);\n",
              "        const docLink = document.createElement('div');\n",
              "        docLink.innerHTML = docLinkHtml;\n",
              "        element.appendChild(docLink);\n",
              "      }\n",
              "    </script>\n",
              "  </div>\n",
              "\n",
              "\n",
              "    <div id=\"df-a721f7ed-b326-4adb-b09f-8681ddc485fd\">\n",
              "      <button class=\"colab-df-quickchart\" onclick=\"quickchart('df-a721f7ed-b326-4adb-b09f-8681ddc485fd')\"\n",
              "                title=\"Suggest charts\"\n",
              "                style=\"display:none;\">\n",
              "\n",
              "<svg xmlns=\"http://www.w3.org/2000/svg\" height=\"24px\"viewBox=\"0 0 24 24\"\n",
              "     width=\"24px\">\n",
              "    <g>\n",
              "        <path d=\"M19 3H5c-1.1 0-2 .9-2 2v14c0 1.1.9 2 2 2h14c1.1 0 2-.9 2-2V5c0-1.1-.9-2-2-2zM9 17H7v-7h2v7zm4 0h-2V7h2v10zm4 0h-2v-4h2v4z\"/>\n",
              "    </g>\n",
              "</svg>\n",
              "      </button>\n",
              "\n",
              "<style>\n",
              "  .colab-df-quickchart {\n",
              "      --bg-color: #E8F0FE;\n",
              "      --fill-color: #1967D2;\n",
              "      --hover-bg-color: #E2EBFA;\n",
              "      --hover-fill-color: #174EA6;\n",
              "      --disabled-fill-color: #AAA;\n",
              "      --disabled-bg-color: #DDD;\n",
              "  }\n",
              "\n",
              "  [theme=dark] .colab-df-quickchart {\n",
              "      --bg-color: #3B4455;\n",
              "      --fill-color: #D2E3FC;\n",
              "      --hover-bg-color: #434B5C;\n",
              "      --hover-fill-color: #FFFFFF;\n",
              "      --disabled-bg-color: #3B4455;\n",
              "      --disabled-fill-color: #666;\n",
              "  }\n",
              "\n",
              "  .colab-df-quickchart {\n",
              "    background-color: var(--bg-color);\n",
              "    border: none;\n",
              "    border-radius: 50%;\n",
              "    cursor: pointer;\n",
              "    display: none;\n",
              "    fill: var(--fill-color);\n",
              "    height: 32px;\n",
              "    padding: 0;\n",
              "    width: 32px;\n",
              "  }\n",
              "\n",
              "  .colab-df-quickchart:hover {\n",
              "    background-color: var(--hover-bg-color);\n",
              "    box-shadow: 0 1px 2px rgba(60, 64, 67, 0.3), 0 1px 3px 1px rgba(60, 64, 67, 0.15);\n",
              "    fill: var(--button-hover-fill-color);\n",
              "  }\n",
              "\n",
              "  .colab-df-quickchart-complete:disabled,\n",
              "  .colab-df-quickchart-complete:disabled:hover {\n",
              "    background-color: var(--disabled-bg-color);\n",
              "    fill: var(--disabled-fill-color);\n",
              "    box-shadow: none;\n",
              "  }\n",
              "\n",
              "  .colab-df-spinner {\n",
              "    border: 2px solid var(--fill-color);\n",
              "    border-color: transparent;\n",
              "    border-bottom-color: var(--fill-color);\n",
              "    animation:\n",
              "      spin 1s steps(1) infinite;\n",
              "  }\n",
              "\n",
              "  @keyframes spin {\n",
              "    0% {\n",
              "      border-color: transparent;\n",
              "      border-bottom-color: var(--fill-color);\n",
              "      border-left-color: var(--fill-color);\n",
              "    }\n",
              "    20% {\n",
              "      border-color: transparent;\n",
              "      border-left-color: var(--fill-color);\n",
              "      border-top-color: var(--fill-color);\n",
              "    }\n",
              "    30% {\n",
              "      border-color: transparent;\n",
              "      border-left-color: var(--fill-color);\n",
              "      border-top-color: var(--fill-color);\n",
              "      border-right-color: var(--fill-color);\n",
              "    }\n",
              "    40% {\n",
              "      border-color: transparent;\n",
              "      border-right-color: var(--fill-color);\n",
              "      border-top-color: var(--fill-color);\n",
              "    }\n",
              "    60% {\n",
              "      border-color: transparent;\n",
              "      border-right-color: var(--fill-color);\n",
              "    }\n",
              "    80% {\n",
              "      border-color: transparent;\n",
              "      border-right-color: var(--fill-color);\n",
              "      border-bottom-color: var(--fill-color);\n",
              "    }\n",
              "    90% {\n",
              "      border-color: transparent;\n",
              "      border-bottom-color: var(--fill-color);\n",
              "    }\n",
              "  }\n",
              "</style>\n",
              "\n",
              "      <script>\n",
              "        async function quickchart(key) {\n",
              "          const quickchartButtonEl =\n",
              "            document.querySelector('#' + key + ' button');\n",
              "          quickchartButtonEl.disabled = true;  // To prevent multiple clicks.\n",
              "          quickchartButtonEl.classList.add('colab-df-spinner');\n",
              "          try {\n",
              "            const charts = await google.colab.kernel.invokeFunction(\n",
              "                'suggestCharts', [key], {});\n",
              "          } catch (error) {\n",
              "            console.error('Error during call to suggestCharts:', error);\n",
              "          }\n",
              "          quickchartButtonEl.classList.remove('colab-df-spinner');\n",
              "          quickchartButtonEl.classList.add('colab-df-quickchart-complete');\n",
              "        }\n",
              "        (() => {\n",
              "          let quickchartButtonEl =\n",
              "            document.querySelector('#df-a721f7ed-b326-4adb-b09f-8681ddc485fd button');\n",
              "          quickchartButtonEl.style.display =\n",
              "            google.colab.kernel.accessAllowed ? 'block' : 'none';\n",
              "        })();\n",
              "      </script>\n",
              "    </div>\n",
              "\n",
              "    </div>\n",
              "  </div>\n"
            ],
            "application/vnd.google.colaboratory.intrinsic+json": {
              "type": "dataframe",
              "summary": "{\n  \"name\": \"df_SMS\",\n  \"rows\": 2,\n  \"fields\": [\n    {\n      \"column\": \"count\",\n      \"properties\": {\n        \"dtype\": \"date\",\n        \"min\": \"50000\",\n        \"max\": \"50000\",\n        \"num_unique_values\": 1,\n        \"samples\": [\n          \"50000\"\n        ],\n        \"semantic_type\": \"\",\n        \"description\": \"\"\n      }\n    },\n    {\n      \"column\": \"unique\",\n      \"properties\": {\n        \"dtype\": \"date\",\n        \"min\": 3,\n        \"max\": 4220,\n        \"num_unique_values\": 2,\n        \"samples\": [\n          3\n        ],\n        \"semantic_type\": \"\",\n        \"description\": \"\"\n      }\n    },\n    {\n      \"column\": \"top\",\n      \"properties\": {\n        \"dtype\": \"string\",\n        \"num_unique_values\": 2,\n        \"samples\": [\n          \"Promotional\"\n        ],\n        \"semantic_type\": \"\",\n        \"description\": \"\"\n      }\n    },\n    {\n      \"column\": \"freq\",\n      \"properties\": {\n        \"dtype\": \"date\",\n        \"min\": \"1015\",\n        \"max\": \"19888\",\n        \"num_unique_values\": 2,\n        \"samples\": [\n          \"19888\"\n        ],\n        \"semantic_type\": \"\",\n        \"description\": \"\"\n      }\n    }\n  ]\n}"
            }
          },
          "metadata": {},
          "execution_count": 6
        }
      ]
    },
    {
      "cell_type": "markdown",
      "source": [
        "# Interpretation\n",
        "\n",
        "### **Message Column**\n",
        "\n",
        "1. **Total Records** → Contains **50,000 text messages**.\n",
        "2. **Unique Values** → Only **4,220 unique messages**, meaning the dataset has a lot of **repeated messages**.\n",
        "3. **Most Frequent Message** → *\"You have successfully logged into your account.\"*\n",
        "4. **Frequency of Top Message** → This message appears **1,015 times**, showing it’s a common system-generated message.\n",
        "5. **Nature** → Represents the **actual text content** that will be analyzed for spam/ham classification.\n",
        "\n",
        "\n",
        "\n",
        "### **Category Column**\n",
        "\n",
        "1. **Total Records** → Contains **50,000 labels** (one for each message).\n",
        "2. **Unique Values** → There are **3 unique categories** (e.g., Promotional, Transactional, Spam / Ham).\n",
        "3. **Most Frequent Category** → *Promotional*.\n",
        "4. **Frequency of Top Category** → Promotional appears **19,888 times**, making it the **dominant class** in the dataset.\n",
        "5. **Nature** → Acts as the **target variable (label)** for classification – the model will predict this.\n"
      ],
      "metadata": {
        "id": "8bA7cmz45EzU"
      }
    },
    {
      "cell_type": "markdown",
      "source": [
        "## NULL VALUE HANDLING"
      ],
      "metadata": {
        "id": "QKKZCUB-5a9I"
      }
    },
    {
      "cell_type": "code",
      "source": [
        "# Check the count of missing records\n",
        "df_SMS.isnull().sum()"
      ],
      "metadata": {
        "colab": {
          "base_uri": "https://localhost:8080/",
          "height": 146
        },
        "id": "Nq7VzCXF4wmZ",
        "outputId": "984a610a-acf9-485d-c5e8-42ad03a366fa"
      },
      "execution_count": null,
      "outputs": [
        {
          "output_type": "execute_result",
          "data": {
            "text/plain": [
              "Message     0\n",
              "Category    0\n",
              "dtype: int64"
            ],
            "text/html": [
              "<div>\n",
              "<style scoped>\n",
              "    .dataframe tbody tr th:only-of-type {\n",
              "        vertical-align: middle;\n",
              "    }\n",
              "\n",
              "    .dataframe tbody tr th {\n",
              "        vertical-align: top;\n",
              "    }\n",
              "\n",
              "    .dataframe thead th {\n",
              "        text-align: right;\n",
              "    }\n",
              "</style>\n",
              "<table border=\"1\" class=\"dataframe\">\n",
              "  <thead>\n",
              "    <tr style=\"text-align: right;\">\n",
              "      <th></th>\n",
              "      <th>0</th>\n",
              "    </tr>\n",
              "  </thead>\n",
              "  <tbody>\n",
              "    <tr>\n",
              "      <th>Message</th>\n",
              "      <td>0</td>\n",
              "    </tr>\n",
              "    <tr>\n",
              "      <th>Category</th>\n",
              "      <td>0</td>\n",
              "    </tr>\n",
              "  </tbody>\n",
              "</table>\n",
              "</div><br><label><b>dtype:</b> int64</label>"
            ]
          },
          "metadata": {},
          "execution_count": 7
        }
      ]
    },
    {
      "cell_type": "markdown",
      "source": [
        "Interpretation\n",
        "\n",
        "* We dont have null values."
      ],
      "metadata": {
        "id": "jgrTnZg-5m8z"
      }
    },
    {
      "cell_type": "code",
      "source": [
        "df_SMS.head()"
      ],
      "metadata": {
        "colab": {
          "base_uri": "https://localhost:8080/",
          "height": 206
        },
        "id": "xRzBkgjs5h89",
        "outputId": "6e11b09f-d234-4074-f53c-4ceb7878d540"
      },
      "execution_count": null,
      "outputs": [
        {
          "output_type": "execute_result",
          "data": {
            "text/plain": [
              "                                             Message       Category\n",
              "0  Final notice. Update your info: https://verify...           Spam\n",
              "1  Reset your password now at https://get-rich-fa...           Spam\n",
              "2  Your transaction ID is TXN471861. Please keep ...  Transactional\n",
              "3  Your package with tracking ID 162556 has been ...  Transactional\n",
              "4  Earn money fast! Start today: https://login-no...           Spam"
            ],
            "text/html": [
              "\n",
              "  <div id=\"df-ada453c3-9f80-4652-9aec-34fcb481464c\" class=\"colab-df-container\">\n",
              "    <div>\n",
              "<style scoped>\n",
              "    .dataframe tbody tr th:only-of-type {\n",
              "        vertical-align: middle;\n",
              "    }\n",
              "\n",
              "    .dataframe tbody tr th {\n",
              "        vertical-align: top;\n",
              "    }\n",
              "\n",
              "    .dataframe thead th {\n",
              "        text-align: right;\n",
              "    }\n",
              "</style>\n",
              "<table border=\"1\" class=\"dataframe\">\n",
              "  <thead>\n",
              "    <tr style=\"text-align: right;\">\n",
              "      <th></th>\n",
              "      <th>Message</th>\n",
              "      <th>Category</th>\n",
              "    </tr>\n",
              "  </thead>\n",
              "  <tbody>\n",
              "    <tr>\n",
              "      <th>0</th>\n",
              "      <td>Final notice. Update your info: https://verify...</td>\n",
              "      <td>Spam</td>\n",
              "    </tr>\n",
              "    <tr>\n",
              "      <th>1</th>\n",
              "      <td>Reset your password now at https://get-rich-fa...</td>\n",
              "      <td>Spam</td>\n",
              "    </tr>\n",
              "    <tr>\n",
              "      <th>2</th>\n",
              "      <td>Your transaction ID is TXN471861. Please keep ...</td>\n",
              "      <td>Transactional</td>\n",
              "    </tr>\n",
              "    <tr>\n",
              "      <th>3</th>\n",
              "      <td>Your package with tracking ID 162556 has been ...</td>\n",
              "      <td>Transactional</td>\n",
              "    </tr>\n",
              "    <tr>\n",
              "      <th>4</th>\n",
              "      <td>Earn money fast! Start today: https://login-no...</td>\n",
              "      <td>Spam</td>\n",
              "    </tr>\n",
              "  </tbody>\n",
              "</table>\n",
              "</div>\n",
              "    <div class=\"colab-df-buttons\">\n",
              "\n",
              "  <div class=\"colab-df-container\">\n",
              "    <button class=\"colab-df-convert\" onclick=\"convertToInteractive('df-ada453c3-9f80-4652-9aec-34fcb481464c')\"\n",
              "            title=\"Convert this dataframe to an interactive table.\"\n",
              "            style=\"display:none;\">\n",
              "\n",
              "  <svg xmlns=\"http://www.w3.org/2000/svg\" height=\"24px\" viewBox=\"0 -960 960 960\">\n",
              "    <path d=\"M120-120v-720h720v720H120Zm60-500h600v-160H180v160Zm220 220h160v-160H400v160Zm0 220h160v-160H400v160ZM180-400h160v-160H180v160Zm440 0h160v-160H620v160ZM180-180h160v-160H180v160Zm440 0h160v-160H620v160Z\"/>\n",
              "  </svg>\n",
              "    </button>\n",
              "\n",
              "  <style>\n",
              "    .colab-df-container {\n",
              "      display:flex;\n",
              "      gap: 12px;\n",
              "    }\n",
              "\n",
              "    .colab-df-convert {\n",
              "      background-color: #E8F0FE;\n",
              "      border: none;\n",
              "      border-radius: 50%;\n",
              "      cursor: pointer;\n",
              "      display: none;\n",
              "      fill: #1967D2;\n",
              "      height: 32px;\n",
              "      padding: 0 0 0 0;\n",
              "      width: 32px;\n",
              "    }\n",
              "\n",
              "    .colab-df-convert:hover {\n",
              "      background-color: #E2EBFA;\n",
              "      box-shadow: 0px 1px 2px rgba(60, 64, 67, 0.3), 0px 1px 3px 1px rgba(60, 64, 67, 0.15);\n",
              "      fill: #174EA6;\n",
              "    }\n",
              "\n",
              "    .colab-df-buttons div {\n",
              "      margin-bottom: 4px;\n",
              "    }\n",
              "\n",
              "    [theme=dark] .colab-df-convert {\n",
              "      background-color: #3B4455;\n",
              "      fill: #D2E3FC;\n",
              "    }\n",
              "\n",
              "    [theme=dark] .colab-df-convert:hover {\n",
              "      background-color: #434B5C;\n",
              "      box-shadow: 0px 1px 3px 1px rgba(0, 0, 0, 0.15);\n",
              "      filter: drop-shadow(0px 1px 2px rgba(0, 0, 0, 0.3));\n",
              "      fill: #FFFFFF;\n",
              "    }\n",
              "  </style>\n",
              "\n",
              "    <script>\n",
              "      const buttonEl =\n",
              "        document.querySelector('#df-ada453c3-9f80-4652-9aec-34fcb481464c button.colab-df-convert');\n",
              "      buttonEl.style.display =\n",
              "        google.colab.kernel.accessAllowed ? 'block' : 'none';\n",
              "\n",
              "      async function convertToInteractive(key) {\n",
              "        const element = document.querySelector('#df-ada453c3-9f80-4652-9aec-34fcb481464c');\n",
              "        const dataTable =\n",
              "          await google.colab.kernel.invokeFunction('convertToInteractive',\n",
              "                                                    [key], {});\n",
              "        if (!dataTable) return;\n",
              "\n",
              "        const docLinkHtml = 'Like what you see? Visit the ' +\n",
              "          '<a target=\"_blank\" href=https://colab.research.google.com/notebooks/data_table.ipynb>data table notebook</a>'\n",
              "          + ' to learn more about interactive tables.';\n",
              "        element.innerHTML = '';\n",
              "        dataTable['output_type'] = 'display_data';\n",
              "        await google.colab.output.renderOutput(dataTable, element);\n",
              "        const docLink = document.createElement('div');\n",
              "        docLink.innerHTML = docLinkHtml;\n",
              "        element.appendChild(docLink);\n",
              "      }\n",
              "    </script>\n",
              "  </div>\n",
              "\n",
              "\n",
              "    <div id=\"df-0573b552-16ff-4eed-9389-02fcc99424b6\">\n",
              "      <button class=\"colab-df-quickchart\" onclick=\"quickchart('df-0573b552-16ff-4eed-9389-02fcc99424b6')\"\n",
              "                title=\"Suggest charts\"\n",
              "                style=\"display:none;\">\n",
              "\n",
              "<svg xmlns=\"http://www.w3.org/2000/svg\" height=\"24px\"viewBox=\"0 0 24 24\"\n",
              "     width=\"24px\">\n",
              "    <g>\n",
              "        <path d=\"M19 3H5c-1.1 0-2 .9-2 2v14c0 1.1.9 2 2 2h14c1.1 0 2-.9 2-2V5c0-1.1-.9-2-2-2zM9 17H7v-7h2v7zm4 0h-2V7h2v10zm4 0h-2v-4h2v4z\"/>\n",
              "    </g>\n",
              "</svg>\n",
              "      </button>\n",
              "\n",
              "<style>\n",
              "  .colab-df-quickchart {\n",
              "      --bg-color: #E8F0FE;\n",
              "      --fill-color: #1967D2;\n",
              "      --hover-bg-color: #E2EBFA;\n",
              "      --hover-fill-color: #174EA6;\n",
              "      --disabled-fill-color: #AAA;\n",
              "      --disabled-bg-color: #DDD;\n",
              "  }\n",
              "\n",
              "  [theme=dark] .colab-df-quickchart {\n",
              "      --bg-color: #3B4455;\n",
              "      --fill-color: #D2E3FC;\n",
              "      --hover-bg-color: #434B5C;\n",
              "      --hover-fill-color: #FFFFFF;\n",
              "      --disabled-bg-color: #3B4455;\n",
              "      --disabled-fill-color: #666;\n",
              "  }\n",
              "\n",
              "  .colab-df-quickchart {\n",
              "    background-color: var(--bg-color);\n",
              "    border: none;\n",
              "    border-radius: 50%;\n",
              "    cursor: pointer;\n",
              "    display: none;\n",
              "    fill: var(--fill-color);\n",
              "    height: 32px;\n",
              "    padding: 0;\n",
              "    width: 32px;\n",
              "  }\n",
              "\n",
              "  .colab-df-quickchart:hover {\n",
              "    background-color: var(--hover-bg-color);\n",
              "    box-shadow: 0 1px 2px rgba(60, 64, 67, 0.3), 0 1px 3px 1px rgba(60, 64, 67, 0.15);\n",
              "    fill: var(--button-hover-fill-color);\n",
              "  }\n",
              "\n",
              "  .colab-df-quickchart-complete:disabled,\n",
              "  .colab-df-quickchart-complete:disabled:hover {\n",
              "    background-color: var(--disabled-bg-color);\n",
              "    fill: var(--disabled-fill-color);\n",
              "    box-shadow: none;\n",
              "  }\n",
              "\n",
              "  .colab-df-spinner {\n",
              "    border: 2px solid var(--fill-color);\n",
              "    border-color: transparent;\n",
              "    border-bottom-color: var(--fill-color);\n",
              "    animation:\n",
              "      spin 1s steps(1) infinite;\n",
              "  }\n",
              "\n",
              "  @keyframes spin {\n",
              "    0% {\n",
              "      border-color: transparent;\n",
              "      border-bottom-color: var(--fill-color);\n",
              "      border-left-color: var(--fill-color);\n",
              "    }\n",
              "    20% {\n",
              "      border-color: transparent;\n",
              "      border-left-color: var(--fill-color);\n",
              "      border-top-color: var(--fill-color);\n",
              "    }\n",
              "    30% {\n",
              "      border-color: transparent;\n",
              "      border-left-color: var(--fill-color);\n",
              "      border-top-color: var(--fill-color);\n",
              "      border-right-color: var(--fill-color);\n",
              "    }\n",
              "    40% {\n",
              "      border-color: transparent;\n",
              "      border-right-color: var(--fill-color);\n",
              "      border-top-color: var(--fill-color);\n",
              "    }\n",
              "    60% {\n",
              "      border-color: transparent;\n",
              "      border-right-color: var(--fill-color);\n",
              "    }\n",
              "    80% {\n",
              "      border-color: transparent;\n",
              "      border-right-color: var(--fill-color);\n",
              "      border-bottom-color: var(--fill-color);\n",
              "    }\n",
              "    90% {\n",
              "      border-color: transparent;\n",
              "      border-bottom-color: var(--fill-color);\n",
              "    }\n",
              "  }\n",
              "</style>\n",
              "\n",
              "      <script>\n",
              "        async function quickchart(key) {\n",
              "          const quickchartButtonEl =\n",
              "            document.querySelector('#' + key + ' button');\n",
              "          quickchartButtonEl.disabled = true;  // To prevent multiple clicks.\n",
              "          quickchartButtonEl.classList.add('colab-df-spinner');\n",
              "          try {\n",
              "            const charts = await google.colab.kernel.invokeFunction(\n",
              "                'suggestCharts', [key], {});\n",
              "          } catch (error) {\n",
              "            console.error('Error during call to suggestCharts:', error);\n",
              "          }\n",
              "          quickchartButtonEl.classList.remove('colab-df-spinner');\n",
              "          quickchartButtonEl.classList.add('colab-df-quickchart-complete');\n",
              "        }\n",
              "        (() => {\n",
              "          let quickchartButtonEl =\n",
              "            document.querySelector('#df-0573b552-16ff-4eed-9389-02fcc99424b6 button');\n",
              "          quickchartButtonEl.style.display =\n",
              "            google.colab.kernel.accessAllowed ? 'block' : 'none';\n",
              "        })();\n",
              "      </script>\n",
              "    </div>\n",
              "\n",
              "    </div>\n",
              "  </div>\n"
            ],
            "application/vnd.google.colaboratory.intrinsic+json": {
              "type": "dataframe",
              "variable_name": "df_SMS",
              "summary": "{\n  \"name\": \"df_SMS\",\n  \"rows\": 50000,\n  \"fields\": [\n    {\n      \"column\": \"Message\",\n      \"properties\": {\n        \"dtype\": \"category\",\n        \"num_unique_values\": 4220,\n        \"samples\": [\n          \"Your package with tracking ID 220411 has been shipped.\",\n          \"Your transaction ID is TXN634934. Please keep it for your records.\",\n          \"Your payment of \\u20b9891 was successful.\"\n        ],\n        \"semantic_type\": \"\",\n        \"description\": \"\"\n      }\n    },\n    {\n      \"column\": \"Category\",\n      \"properties\": {\n        \"dtype\": \"category\",\n        \"num_unique_values\": 3,\n        \"samples\": [\n          \"Spam\",\n          \"Transactional\",\n          \"Promotional\"\n        ],\n        \"semantic_type\": \"\",\n        \"description\": \"\"\n      }\n    }\n  ]\n}"
            }
          },
          "metadata": {},
          "execution_count": 8
        }
      ]
    },
    {
      "cell_type": "markdown",
      "source": [
        "### Remove Duplicate"
      ],
      "metadata": {
        "id": "9E1IrVdt1BOP"
      }
    },
    {
      "cell_type": "code",
      "source": [
        "# Count duplicates in the \"message\" column\n",
        "duplicate_count = df_SMS[\"Message\"].duplicated().sum()\n",
        "print(\"Number of duplicate messages:\", duplicate_count)\n",
        "\n",
        "# Show duplicate rows (if any)\n",
        "duplicates = df_SMS[df_SMS[\"Message\"].duplicated(keep=False)]\n",
        "print(\"\\nDuplicate messages with URLs included:\")\n",
        "print(duplicates[[\"Message\"]])"
      ],
      "metadata": {
        "id": "cXZ53vMZ52bN",
        "colab": {
          "base_uri": "https://localhost:8080/"
        },
        "outputId": "a47af006-448e-4b84-9fda-b941297f8a82"
      },
      "execution_count": null,
      "outputs": [
        {
          "output_type": "stream",
          "name": "stdout",
          "text": [
            "Number of duplicate messages: 45780\n",
            "\n",
            "Duplicate messages with URLs included:\n",
            "                                                 Message\n",
            "0      Final notice. Update your info: https://verify...\n",
            "1      Reset your password now at https://get-rich-fa...\n",
            "4      Earn money fast! Start today: https://login-no...\n",
            "7      Check out our latest deals at https://merchant...\n",
            "8      Upgrade your plan today: https://merchant-site...\n",
            "...                                                  ...\n",
            "49995  Track your shipment here: https://www.airtel.i...\n",
            "49996  Exclusive deals available here: https://www.my...\n",
            "49997    You have successfully logged into your account.\n",
            "49998  Introducing our new range. Learn more: https:/...\n",
            "49999  Upgrade your plan today: https://secure.bankpo...\n",
            "\n",
            "[46080 rows x 1 columns]\n"
          ]
        }
      ]
    },
    {
      "cell_type": "code",
      "source": [
        "import pandas as pd\n",
        "import re\n",
        "\n",
        "# Load dataset\n",
        "file_path = \"message_dataset_50k.csv\"\n",
        "df_SMS = pd.read_csv(file_path)\n",
        "\n",
        "# Step 1: Remove duplicates\n",
        "df_SMS = df_SMS.drop_duplicates(subset=[\"Message\"])\n",
        "\n",
        "# Step 2: Cleaning function\n",
        "def clean_message(text):\n",
        "    text = str(text).lower()                         # normalize casing\n",
        "    text = re.sub(r\"http\\S+\", \" url \", text)         # replace URLs with token\n",
        "    text = re.sub(r\"[^a-z0-9\\s]\", \" \", text)         # remove special chars\n",
        "    text = re.sub(r\"\\s+\", \" \", text).strip()         # normalize spaces\n",
        "    return text\n",
        "\n",
        "# Step 3: Apply cleaning\n",
        "df_SMS[\"cleaned_message\"] = df_SMS[\"Message\"].apply(clean_message)\n",
        "\n",
        "# Step 4: Save cleaned dataset\n",
        "df_SMS.to_csv(\"cleaned_sms.csv\", index=False)\n",
        "\n",
        "print(\"Cleaning complete. Saved to cleaned_sms.csv\")\n",
        "print(\"Total rows after cleaning:\", len(df_SMS))"
      ],
      "metadata": {
        "colab": {
          "base_uri": "https://localhost:8080/"
        },
        "id": "NO9z7WCC1oEX",
        "outputId": "c20863b7-4adc-496a-f06c-e6893f6bd6eb"
      },
      "execution_count": null,
      "outputs": [
        {
          "output_type": "stream",
          "name": "stdout",
          "text": [
            "Cleaning complete. Saved to cleaned_sms.csv\n",
            "Total rows after cleaning: 4220\n"
          ]
        }
      ]
    },
    {
      "cell_type": "markdown",
      "source": [
        "## Interpretation\n",
        "\n",
        "* The dataset originally had 50,000 rows, but after removing duplicates, only 4,220 unique messages remained. This shows that about 91% of the data was repeated, making the original dataset misleadingly large. The cleaned dataset, though smaller, is now more reliable, diverse, and suitable for fair model training and evaluation."
      ],
      "metadata": {
        "id": "yAJF9Ytq7XTa"
      }
    },
    {
      "cell_type": "markdown",
      "source": [
        "## Manual Labeling"
      ],
      "metadata": {
        "id": "EDB1DSW67q9L"
      }
    },
    {
      "cell_type": "code",
      "source": [
        "import pandas as pd\n",
        "import re\n",
        "\n",
        "# Load dataset (assume no labels)\n",
        "file_path = \"message_dataset_50k.csv\"\n",
        "df_SMS = pd.read_csv(file_path)\n",
        "\n",
        "# Function to classify messages\n",
        "def classify_message(text):\n",
        "    text = str(text).lower()\n",
        "\n",
        "    # Rule 1: Transactional (OTPs, confirmations, alerts)\n",
        "    if any(word in text for word in [\"otp\", \"password\", \"transaction\", \"debited\", \"credited\",\n",
        "                                     \"payment\", \"successful\", \"alert\", \"update\", \"booking\", \"order\"]):\n",
        "        return \"Transactional\"\n",
        "\n",
        "    # Rule 2: Promotional (offers, sales, marketing)\n",
        "    elif any(word in text for word in [\"offer\", \"discount\", \"sale\", \"deal\", \"save\", \"buy\",\n",
        "                                       \"win\", \"free\", \"cashback\", \"shopping\", \"hurry\", \"limited\"]):\n",
        "        return \"Promotional\"\n",
        "\n",
        "    # Rule 3: Spam (phishing links, scam patterns, suspicious domains)\n",
        "    elif re.search(r\"(bit\\.ly|tinyurl|win money|lottery|click here|urgent)\", text):\n",
        "        return \"Spam\"\n",
        "\n",
        "    # Fallback: Needs manual review\n",
        "    else:\n",
        "        return \"Manual_Review\"\n",
        "\n",
        "# Apply classification\n",
        "df_SMS[\"Auto_Label\"] = df_SMS[\"Message\"].apply(classify_message)\n",
        "\n",
        "# Save for manual review\n",
        "df_SMS.to_csv(\"labeled_sms.csv\", index=False)\n",
        "\n",
        "print(\"Auto-labeling complete. Saved to labeled_sms.csv\")\n",
        "print(df_SMS[\"Auto_Label\"].value_counts())"
      ],
      "metadata": {
        "colab": {
          "base_uri": "https://localhost:8080/"
        },
        "id": "2rxQPYL_5AuR",
        "outputId": "76302ab0-3610-4f98-9f4a-38fc7a8b6926"
      },
      "execution_count": null,
      "outputs": [
        {
          "output_type": "stream",
          "name": "stdout",
          "text": [
            "Auto-labeling complete. Saved to labeled_sms.csv\n",
            "Auto_Label\n",
            "Manual_Review    17543\n",
            "Transactional    16590\n",
            "Promotional      14912\n",
            "Spam               955\n",
            "Name: count, dtype: int64\n"
          ]
        }
      ]
    },
    {
      "cell_type": "markdown",
      "source": [
        "## Data Labelling"
      ],
      "metadata": {
        "id": "MAzvY7Yn8TNb"
      }
    },
    {
      "cell_type": "code",
      "source": [
        "# Apply cleaning\n",
        "df_SMS[\"cleaned_message\"] = df_SMS[\"Message\"].apply(clean_message)\n",
        "\n",
        "# Apply classification\n",
        "df_SMS[\"category\"] = df_SMS[\"cleaned_message\"].apply(classify_message)\n",
        "\n",
        "# Keep only required columns\n",
        "final_df = df_SMS[[\"Message\", \"category\", \"cleaned_message\"]]\n",
        "final_df.rename(columns={\"Message\": \"message\"}, inplace=True)\n",
        "\n",
        "# Save to CSV\n",
        "final_df.to_csv(\"final_labeled_dataset.csv\", index=False, encoding=\"utf-8\")\n",
        "\n",
        "print(\"Final dataset created: final_labeled_dataset.csv\")\n",
        "print(final_df.head())"
      ],
      "metadata": {
        "colab": {
          "base_uri": "https://localhost:8080/"
        },
        "id": "lXP0sxgE8ifx",
        "outputId": "2186a6d4-3cf0-49d6-a4e7-c11727ab715e"
      },
      "execution_count": null,
      "outputs": [
        {
          "output_type": "stream",
          "name": "stderr",
          "text": [
            "/tmp/ipython-input-3254859315.py:9: SettingWithCopyWarning: \n",
            "A value is trying to be set on a copy of a slice from a DataFrame\n",
            "\n",
            "See the caveats in the documentation: https://pandas.pydata.org/pandas-docs/stable/user_guide/indexing.html#returning-a-view-versus-a-copy\n",
            "  final_df.rename(columns={\"Message\": \"message\"}, inplace=True)\n"
          ]
        },
        {
          "output_type": "stream",
          "name": "stdout",
          "text": [
            "Final dataset created: final_labeled_dataset.csv\n",
            "                                             message       category  \\\n",
            "0  Final notice. Update your info: https://verify...  Transactional   \n",
            "1  Reset your password now at https://get-rich-fa...  Transactional   \n",
            "2  Your transaction ID is TXN471861. Please keep ...  Transactional   \n",
            "3  Your package with tracking ID 162556 has been ...  Manual_Review   \n",
            "4  Earn money fast! Start today: https://login-no...  Manual_Review   \n",
            "\n",
            "                                     cleaned_message  \n",
            "0                  final notice update your info url  \n",
            "1                     reset your password now at url  \n",
            "2  your transaction id is txn471861 please keep i...  \n",
            "3  your package with tracking id 162556 has been ...  \n",
            "4                    earn money fast start today url  \n"
          ]
        }
      ]
    },
    {
      "cell_type": "code",
      "source": [
        "import pandas as pd\n",
        "import re\n",
        "\n",
        "# Load dataset (replace with your actual path)\n",
        "df = pd.read_csv(\"message_dataset_50k.csv\")\n",
        "\n",
        "# Step 1: Remove duplicates\n",
        "df = df.drop_duplicates(subset=['Message']).reset_index(drop=True)\n",
        "\n",
        "# Step 2: Clean text\n",
        "def clean_text(text):\n",
        "    text = str(text).lower()                          # lowercase\n",
        "    text = re.sub(r'[^a-z0-9\\s]', ' ', text)          # remove special characters\n",
        "    text = re.sub(r'\\s+', ' ', text).strip()          # remove extra spaces\n",
        "    return text\n",
        "\n",
        "df['cleaned_message'] = df['Message'].apply(clean_text)\n",
        "\n",
        "# Step 3: Label messages (this will need manual/semi-automated rules)\n",
        "def label_message(msg):\n",
        "    if re.search(r'otp|one time password|transaction|debited|credited|alert', msg):\n",
        "        return \"Transactional\"\n",
        "    elif re.search(r'offer|sale|discount|deal|free|buy now', msg):\n",
        "        return \"Promotional\"\n",
        "    else:\n",
        "        return \"Spam\"\n",
        "\n",
        "df['category'] = df['cleaned_message'].apply(label_message)\n",
        "\n",
        "# Reorder columns\n",
        "df = df[['Message', 'category', 'cleaned_message']]\n",
        "\n",
        "# Save final dataset\n",
        "df.to_csv(\"labeled_sms_dataset.csv\", index=False)\n",
        "\n",
        "print(\"Preprocessing & labeling completed. Saved as labeled_sms_dataset.csv\")"
      ],
      "metadata": {
        "colab": {
          "base_uri": "https://localhost:8080/"
        },
        "id": "93HbFHSA-naM",
        "outputId": "edcfb92b-715d-487e-f6a3-3c20b99f497a"
      },
      "execution_count": null,
      "outputs": [
        {
          "output_type": "stream",
          "name": "stdout",
          "text": [
            "Preprocessing & labeling completed. Saved as labeled_sms_dataset.csv\n"
          ]
        }
      ]
    },
    {
      "cell_type": "markdown",
      "source": [
        "# Spam Classifier"
      ],
      "metadata": {
        "id": "oMcfX_FABVaX"
      }
    },
    {
      "cell_type": "code",
      "source": [
        "# Step 2: Load dataset. If file has no 'category', apply a simple rule-based bootstrap labeling.\n",
        "df = pd.read_csv(DATA_PATH)\n",
        "print(\"Loaded rows:\", len(df))\n",
        "print(\"Columns:\", df.columns.tolist())\n",
        "\n",
        "# If dataset isn't labeled, auto-label with a basic rule-based function (then save)\n",
        "if 'category' not in df.columns:\n",
        "    print(\"No 'category' column found — applying heuristic auto-labeling (please review!).\")\n",
        "    def auto_label(msg):\n",
        "        m = str(msg).lower()\n",
        "        if re.search(r'\\botp\\b|\\bone time password\\b|\\bcredited\\b|\\bdebited\\b|\\balert\\b|\\btransaction\\b', m):\n",
        "            return \"Transactional\"\n",
        "        if re.search(r'\\boffer\\b|\\bsale\\b|\\bdiscount\\b|\\boff\\b|\\bfree\\b|\\bbuy now\\b', m):\n",
        "            return \"Promotional\"\n",
        "        return \"Spam\"\n",
        "    df['category'] = df['message'].apply(auto_label)\n",
        "    df.to_csv(\"labeled_sms_dataset_auto.csv\", index=False)\n",
        "    print(\"Saved bootstrap-labeled dataset to labeled_sms_dataset_auto.csv\")\n",
        "else:\n",
        "    print(\"'category' column present - OK.\")\n"
      ],
      "metadata": {
        "colab": {
          "base_uri": "https://localhost:8080/"
        },
        "id": "wJPTuZMiIj3G",
        "outputId": "f8a5c8b5-feca-4e3c-bdfb-4e9fb3aa2ef0"
      },
      "execution_count": 33,
      "outputs": [
        {
          "output_type": "stream",
          "name": "stdout",
          "text": [
            "Loaded rows: 4220\n",
            "Columns: ['Message', 'category', 'cleaned_message']\n",
            "'category' column present - OK.\n"
          ]
        }
      ]
    },
    {
      "cell_type": "code",
      "source": [
        "# Step 3: Cleaning function and apply\n",
        "def clean_text(txt):\n",
        "    txt = str(txt).lower()\n",
        "    # remove urls\n",
        "    txt = re.sub(r'http\\S+|www\\.\\S+', ' ', txt)\n",
        "    # remove all non-alphanumeric characters (keep spaces)\n",
        "    txt = re.sub(r'[^a-z0-9\\s]', ' ', txt)\n",
        "    # collapse whitespace\n",
        "    txt = re.sub(r'\\s+', ' ', txt).strip()\n",
        "    return txt\n",
        "\n",
        "# create/overwrite cleaned_message\n",
        "df['cleaned_message'] = df.get('cleaned_message', df['Message']).astype(str).apply(clean_text)\n",
        "\n",
        "# quick sanity print\n",
        "print(\"Example original -> cleaned:\")\n",
        "for i in range(min(3, len(df))):\n",
        "    print(df['Message'].iloc[i], \"->\", df['cleaned_message'].iloc[i])"
      ],
      "metadata": {
        "colab": {
          "base_uri": "https://localhost:8080/"
        },
        "id": "OtBjSsEBImxE",
        "outputId": "37e32321-1eac-461a-c849-2d856cf31cd2"
      },
      "execution_count": 35,
      "outputs": [
        {
          "output_type": "stream",
          "name": "stdout",
          "text": [
            "Example original -> cleaned:\n",
            "Final notice. Update your info: https://verify-now.online -> final notice update your info verify now online\n",
            "Reset your password now at https://get-rich-fast.biz -> reset your password now at get rich fast biz\n",
            "Your transaction ID is TXN471861. Please keep it for your records. -> your transaction id is txn471861 please keep it for your records\n"
          ]
        }
      ]
    },
    {
      "cell_type": "code",
      "source": [
        "# Step 4: Train-test split (stratified)\n",
        "X = df['cleaned_message']\n",
        "y = df['category']\n",
        "\n",
        "X_train, X_test, y_train, y_test = train_test_split(\n",
        "    X, y, test_size=TEST_SIZE, stratify=y, random_state=RANDOM_STATE\n",
        ")\n",
        "\n",
        "print(\"Train counts:\\n\", y_train.value_counts())\n",
        "print(\"Test counts:\\n\", y_test.value_counts())\n"
      ],
      "metadata": {
        "colab": {
          "base_uri": "https://localhost:8080/"
        },
        "id": "ddsJ4FdTIrpn",
        "outputId": "5e851df4-2f7f-4b5e-9716-8f73e78b88cb"
      },
      "execution_count": 36,
      "outputs": [
        {
          "output_type": "stream",
          "name": "stdout",
          "text": [
            "Train counts:\n",
            " category\n",
            "Spam             1719\n",
            "Transactional    1592\n",
            "Promotional        65\n",
            "Name: count, dtype: int64\n",
            "Test counts:\n",
            " category\n",
            "Spam             430\n",
            "Transactional    398\n",
            "Promotional       16\n",
            "Name: count, dtype: int64\n"
          ]
        }
      ]
    },
    {
      "cell_type": "code",
      "source": [
        "# Step 5: Optional upsampling to improve minority-class recall (e.g., Promotional)\n",
        "if UPSAMPLE_SMALL_CLASSES:\n",
        "    train_df = pd.DataFrame({'text': X_train, 'category': y_train}).reset_index(drop=True)\n",
        "    min_count = train_df['category'].value_counts().min()\n",
        "    target = min_count * UPSAMPLE_MULT\n",
        "\n",
        "    frames = []\n",
        "    for cls, grp in train_df.groupby('category'):\n",
        "        if len(grp) < target:\n",
        "            up = resample(grp, replace=True, n_samples=target, random_state=RANDOM_STATE)\n",
        "            frames.append(up)\n",
        "        else:\n",
        "            frames.append(grp)\n",
        "    balanced = pd.concat(frames).sample(frac=1, random_state=RANDOM_STATE).reset_index(drop=True)\n",
        "    X_train = balanced['text']\n",
        "    y_train = balanced['category']\n",
        "    print(\"After upsampling, train class counts:\\n\", y_train.value_counts())\n",
        "else:\n",
        "    print(\"Skipping upsampling.\")"
      ],
      "metadata": {
        "colab": {
          "base_uri": "https://localhost:8080/"
        },
        "id": "z1FDxXCmI1iV",
        "outputId": "8a851861-1031-41b5-8b4e-92548bf1dcab"
      },
      "execution_count": 37,
      "outputs": [
        {
          "output_type": "stream",
          "name": "stdout",
          "text": [
            "After upsampling, train class counts:\n",
            " category\n",
            "Spam             1719\n",
            "Transactional    1592\n",
            "Promotional       195\n",
            "Name: count, dtype: int64\n"
          ]
        }
      ]
    },
    {
      "cell_type": "code",
      "source": [
        "# Step 6: Build pipeline\n",
        "pipeline = Pipeline([\n",
        "    ('tfidf', TfidfVectorizer(max_features=TFIDF_MAX_FEATURES, ngram_range=NGRAM_RANGE)),\n",
        "    ('clf', LogisticRegression(solver='liblinear', max_iter=1000, random_state=RANDOM_STATE))\n",
        "])\n",
        "# Option: pipeline.set_params(clf__class_weight='balanced')  # alternative to upsampling\n"
      ],
      "metadata": {
        "id": "_O4Fwp0kJZcu"
      },
      "execution_count": 38,
      "outputs": []
    },
    {
      "cell_type": "code",
      "source": [
        "# Step 7: Train\n",
        "t0 = time.perf_counter()\n",
        "pipeline.fit(X_train, y_train)\n",
        "train_time = time.perf_counter() - t0\n",
        "print(f\"Training done in {train_time:.3f} sec\")\n"
      ],
      "metadata": {
        "colab": {
          "base_uri": "https://localhost:8080/"
        },
        "id": "9jjwiLFEJb2C",
        "outputId": "68c9bc39-d0ae-447a-9cfd-67a713b22dbb"
      },
      "execution_count": 39,
      "outputs": [
        {
          "output_type": "stream",
          "name": "stdout",
          "text": [
            "Training done in 0.110 sec\n"
          ]
        }
      ]
    },
    {
      "cell_type": "code",
      "source": [
        "# Train model on ALL data (no test split)\n",
        "# --------------------\n",
        "tfidf = TfidfVectorizer(max_features=5000, ngram_range=(1,2))\n",
        "X_tfidf = tfidf.fit_transform(X)\n",
        "\n",
        "model = LogisticRegression(solver='liblinear', max_iter=1000, random_state=42)\n",
        "model.fit(X_tfidf, y)\n",
        "\n",
        "# --------------------\n",
        "# Evaluate on training data itself\n",
        "# --------------------\n",
        "y_pred_train = model.predict(X_tfidf)\n",
        "\n",
        "accuracy = accuracy_score(y, y_pred_train)\n",
        "precision, recall, f1, _ = precision_recall_fscore_support(y, y_pred_train, average='weighted')\n",
        "\n",
        "print(\"=== Train Set Performance ===\")\n",
        "print(f\"Accuracy:  {accuracy:.4f}\")\n",
        "print(f\"Precision: {precision:.4f}\")\n",
        "print(f\"Recall:    {recall:.4f}\")\n",
        "print(f\"F1 Score:  {f1:.4f}\")\n",
        "print(\"\\nClassification Report:\\n\", classification_report(y, y_pred_train))"
      ],
      "metadata": {
        "colab": {
          "base_uri": "https://localhost:8080/"
        },
        "id": "_4tWJXFuKZEV",
        "outputId": "4251d5a4-3a0e-44cf-8101-d9caf373d11f"
      },
      "execution_count": 44,
      "outputs": [
        {
          "output_type": "stream",
          "name": "stdout",
          "text": [
            "=== Train Set Performance ===\n",
            "Accuracy:  0.9957\n",
            "Precision: 0.9958\n",
            "Recall:    0.9957\n",
            "F1 Score:  0.9955\n",
            "\n",
            "Classification Report:\n",
            "                precision    recall  f1-score   support\n",
            "\n",
            "  Promotional       1.00      0.78      0.88        81\n",
            "         Spam       0.99      1.00      1.00      2149\n",
            "Transactional       1.00      1.00      1.00      1990\n",
            "\n",
            "     accuracy                           1.00      4220\n",
            "    macro avg       1.00      0.93      0.96      4220\n",
            " weighted avg       1.00      1.00      1.00      4220\n",
            "\n"
          ]
        }
      ]
    },
    {
      "cell_type": "code",
      "source": [
        "# Step 8: Predict & metrics\n",
        "y_pred = pipeline.predict(X_test)\n",
        "accuracy = accuracy_score(y_test, y_pred)\n",
        "precision, recall, f1, _ = precision_recall_fscore_support(y_test, y_pred, average='weighted')\n",
        "\n",
        "print(\"=== Test metrics ===\")\n",
        "print(f\"Accuracy:  {accuracy:.4f}\")\n",
        "print(f\"Precision: {precision:.4f}\")\n",
        "print(f\"Recall:    {recall:.4f}\")\n",
        "print(f\"F1 (wtd):  {f1:.4f}\\n\")\n",
        "print(\"Classification report:\\n\", classification_report(y_test, y_pred))\n"
      ],
      "metadata": {
        "colab": {
          "base_uri": "https://localhost:8080/"
        },
        "id": "wykGpFpIJdn8",
        "outputId": "8e6a4b62-4a16-4636-e195-05280ba05115"
      },
      "execution_count": 40,
      "outputs": [
        {
          "output_type": "stream",
          "name": "stdout",
          "text": [
            "=== Test metrics ===\n",
            "Accuracy:  0.9988\n",
            "Precision: 0.9988\n",
            "Recall:    0.9988\n",
            "F1 (wtd):  0.9988\n",
            "\n",
            "Classification report:\n",
            "                precision    recall  f1-score   support\n",
            "\n",
            "  Promotional       1.00      0.94      0.97        16\n",
            "         Spam       1.00      1.00      1.00       430\n",
            "Transactional       1.00      1.00      1.00       398\n",
            "\n",
            "     accuracy                           1.00       844\n",
            "    macro avg       1.00      0.98      0.99       844\n",
            " weighted avg       1.00      1.00      1.00       844\n",
            "\n"
          ]
        }
      ]
    },
    {
      "cell_type": "code",
      "source": [
        "# Step 9: Confusion matrix (matplotlib)\n",
        "classes = pipeline.classes_\n",
        "cm = confusion_matrix(y_test, y_pred, labels=classes)\n",
        "\n",
        "fig, ax = plt.subplots(figsize=(6,5))\n",
        "im = ax.imshow(cm, interpolation='nearest', cmap='Blues')\n",
        "ax.set_title(\"Confusion Matrix\")\n",
        "ax.set_xticks(np.arange(len(classes))); ax.set_xticklabels(classes, rotation=0)\n",
        "ax.set_yticks(np.arange(len(classes))); ax.set_yticklabels(classes)\n",
        "ax.set_xlabel('Predicted'); ax.set_ylabel('Actual')\n",
        "\n",
        "# annotate counts\n",
        "for i in range(cm.shape[0]):\n",
        "    for j in range(cm.shape[1]):\n",
        "        ax.text(j, i, cm[i, j], ha=\"center\", va=\"center\", color=\"black\")\n",
        "fig.colorbar(im)\n",
        "plt.tight_layout()\n",
        "plt.show()\n",
        "\n",
        "# Promotional recall if present\n",
        "if 'Promotional' in y_test.unique():\n",
        "    prom_total = (y_test == 'Promotional').sum()\n",
        "    prom_correct = ((y_test == 'Promotional') & (y_pred == 'Promotional')).sum()\n",
        "    if prom_total > 0:\n",
        "        print(f\"Promotional recall: {prom_correct}/{prom_total} = {prom_correct/prom_total:.2f}\")\n"
      ],
      "metadata": {
        "colab": {
          "base_uri": "https://localhost:8080/",
          "height": 486
        },
        "id": "tYpd_pPtJgTi",
        "outputId": "b9b5f8a7-e145-4dce-f75f-1360814c2fc6"
      },
      "execution_count": 46,
      "outputs": [
        {
          "output_type": "display_data",
          "data": {
            "text/plain": [
              "<Figure size 600x500 with 2 Axes>"
            ],
            "image/png": "[encoded data removed]"
          },
          "metadata": {}
        },
        {
          "output_type": "stream",
          "name": "stdout",
          "text": [
            "Promotional recall: 15/16 = 0.94\n"
          ]
        }
      ]
    },
    {
      "cell_type": "markdown",
      "source": [
        "## Interpretation\n",
        "\n",
        "Promotional:\n",
        "\n",
        "* 12 correctly predicted as Promotional.\n",
        "* 4 misclassified as Spam.\n",
        "* None misclassified as Transactional.\n",
        "* Promotional recall = 12 / (12+4) = 75%.\n",
        "\n",
        "Spam:\n",
        "\n",
        "* All 430 correctly predicted as Spam.\n",
        "* Perfect classification (Recall = 100%).\n",
        "\n",
        "Transactional:\n",
        "\n",
        "* All 398 correctly predicted as Transactional.\n",
        "* Perfect classification (Recall = 100%).\n",
        "\n",
        "Summary:\n",
        "\n",
        "* The model never confuses Spam with Transactional or vice versa → excellent. The only weakness: Promotional messages sometimes get misclassified as Spam (25% error rate). This is likely because promotional and spam messages often look similar (words like “free”, “offer”, “discount”)."
      ],
      "metadata": {
        "id": "wHXUgTuBK58Q"
      }
    },
    {
      "cell_type": "code",
      "source": [
        "# Step 10: Inference timing (end-to-end) and save\n",
        "def avg_inference_time(pipeline, samples, n_runs=200):\n",
        "    total = 0.0\n",
        "    for _ in range(n_runs):\n",
        "        t0 = time.perf_counter()\n",
        "        pipeline.predict(samples)   # vectorize + predict\n",
        "        total += (time.perf_counter() - t0)\n",
        "    return total / n_runs\n",
        "\n",
        "sample_msgs = X_test.sample(min(5, len(X_test)), random_state=RANDOM_STATE).tolist()\n",
        "avg_time = avg_inference_time(pipeline, sample_msgs, n_runs=200)\n",
        "per_msg_ms = (avg_time / len(sample_msgs)) * 1000\n",
        "print(f\"Avg time to predict {len(sample_msgs)} messages: {avg_time:.6f} sec -> per message: {per_msg_ms:.3f} ms\")\n",
        "\n",
        "# Save pipeline for API use\n",
        "joblib.dump(pipeline, PIPELINE_OUT)\n",
        "print(\"Saved pipeline to\", PIPELINE_OUT)\n"
      ],
      "metadata": {
        "colab": {
          "base_uri": "https://localhost:8080/"
        },
        "id": "eqxE8KcuJmP6",
        "outputId": "741eb39a-9ee1-4854-b792-969296b661ba"
      },
      "execution_count": 42,
      "outputs": [
        {
          "output_type": "stream",
          "name": "stdout",
          "text": [
            "Avg time to predict 5 messages: 0.001147 sec -> per message: 0.229 ms\n",
            "Saved pipeline to sms_spam_pipeline_lr.joblib\n"
          ]
        }
      ]
    },
    {
      "cell_type": "code",
      "source": [
        "# Step 11: Whitelist + FastAPI endpoint (save this as api.py)\n",
        "from fastapi import FastAPI\n",
        "from pydantic import BaseModel\n",
        "import re, joblib\n",
        "\n",
        "app = FastAPI(title=\"SMS Filter API\")\n",
        "PIPELINE_PATH = \"sms_spam_pipeline_lr.joblib\"  # or PIPELINE_OUT\n",
        "pipeline = joblib.load(PIPELINE_PATH)\n",
        "\n",
        "# Example whitelist; move to config file (yaml/json) in production\n",
        "whitelisted_domains = [\"trip.com\", \"icicibank.com\", \"hdfcbank.com\"]\n",
        "whitelisted_phrases = [\"your otp is\", \"do not share this otp\", \"thank you for shopping with\"]\n",
        "whitelisted_senders = [\"ICICIBANK\", \"HDFCBANK\", \"AMAZON\"]\n",
        "\n",
        "def check_whitelist(message, sender_id=None):\n",
        "    msg = str(message).lower()\n",
        "    # domains\n",
        "    for d in whitelisted_domains:\n",
        "        if d in msg:\n",
        "            return True, f\"domain:{d}\"\n",
        "    # phrases\n",
        "    for p in whitelisted_phrases:\n",
        "        if p in msg:\n",
        "            return True, f\"phrase:{p}\"\n",
        "    # sender: only allow if message contains transactional keywords\n",
        "    if sender_id and sender_id.upper() in whitelisted_senders:\n",
        "        if any(k in msg for k in [\"otp\", \"credited\", \"debited\", \"transaction\", \"alert\"]):\n",
        "            return True, f\"sender:{sender_id}\"\n",
        "    return False, None\n",
        "\n",
        "class SMSRequest(BaseModel):\n",
        "    message: str\n",
        "    sender_id: str | None = None\n",
        "\n",
        "@app.post(\"/check_sms\")\n",
        "def check_sms(req: SMSRequest):\n",
        "    # whitelist check first\n",
        "    is_white, reason = check_whitelist(req.message, sender_id=req.sender_id)\n",
        "    if is_white:\n",
        "        return {\"verdict\": \"allowed\", \"reason\": f\"whitelisted:{reason}\"}\n",
        "    # else ML pipeline\n",
        "    pred = pipeline.predict([req.message])[0]\n",
        "    return {\"verdict\": pred, \"reason\": \"ai\"}\n",
        "\n",
        "# To run locally:\n",
        "# uvicorn api:app --host 0.0.0.0 --port 8000\n"
      ],
      "metadata": {
        "id": "jD41Y5n9Jp_C"
      },
      "execution_count": 43,
      "outputs": []
    },
    {
      "cell_type": "markdown",
      "source": [
        "## Whitelisting Mechanism"
      ],
      "metadata": {
        "id": "f2HYuU2KL1Np"
      }
    },
    {
      "cell_type": "code",
      "source": [
        "import re\n",
        "\n",
        "# Example whitelist (you can load this from a YAML/JSON config file later)\n",
        "whitelisted_domains = [\"trip.com\", \"icicibank.com\", \"hdfcbank.com\"]\n",
        "whitelisted_phrases = [\"your otp is\", \"thank you for shopping with\", \"do not share this otp\"]\n",
        "whitelisted_senders = [\"ICICIBANK\", \"HDFCBANK\", \"AMAZON\"]\n",
        "\n",
        "def check_whitelist(message, sender_id=None):\n",
        "    \"\"\"\n",
        "    Check if message matches whitelist rules.\n",
        "    Returns (True, reason) if whitelisted, else (False, None).\n",
        "    \"\"\"\n",
        "    msg = message.lower()\n",
        "\n",
        "    # 1. Check domains\n",
        "    for domain in whitelisted_domains:\n",
        "        if domain in msg:\n",
        "            return True, f\"domain:{domain}\"\n",
        "\n",
        "    # 2. Check phrases\n",
        "    for phrase in whitelisted_phrases:\n",
        "        if phrase in msg:\n",
        "            return True, f\"phrase:{phrase}\"\n",
        "\n",
        "    # 3. Check sender IDs (optional)\n",
        "    if sender_id and sender_id.upper() in whitelisted_senders:\n",
        "        return True, f\"sender:{sender_id}\"\n",
        "\n",
        "    return False, None\n",
        "\n",
        "# Example usage\n",
        "test_messages = [\n",
        "    \"Your OTP is 123456. Do not share with anyone. trip.com\",\n",
        "    \"Get 50% OFF SALE today only!\",\n",
        "    \"ICICIBANK: Your account has been credited with Rs 5000\"\n",
        "]\n",
        "\n",
        "for msg in test_messages:\n",
        "    is_white, reason = check_whitelist(msg, sender_id=\"ICICIBANK\")\n",
        "    if is_white:\n",
        "        print(f\"✅ Allowed (Whitelisted: {reason}) → {msg}\")\n",
        "    else:\n",
        "        print(f\"🚫 Pass to AI model → {msg}\")\n"
      ],
      "metadata": {
        "colab": {
          "base_uri": "https://localhost:8080/"
        },
        "id": "cmJqfWviJwcr",
        "outputId": "86af291f-8337-4626-a7ad-db63fba78514"
      },
      "execution_count": 45,
      "outputs": [
        {
          "output_type": "stream",
          "name": "stdout",
          "text": [
            "✅ Allowed (Whitelisted: domain:trip.com) → Your OTP is 123456. Do not share with anyone. trip.com\n",
            "✅ Allowed (Whitelisted: sender:ICICIBANK) → Get 50% OFF SALE today only!\n",
            "✅ Allowed (Whitelisted: sender:ICICIBANK) → ICICIBANK: Your account has been credited with Rs 5000\n"
          ]
        }
      ]
    },
    {
      "cell_type": "code",
      "source": [
        "# 4. Save as .pkl (pickle file)\n",
        "import joblib\n",
        "joblib.dump((model, tfidf), \"sms_spam_model.pkl\")\n",
        "print(\"✅ Model saved as sms_spam_model.pkl\")"
      ],
      "metadata": {
        "colab": {
          "base_uri": "https://localhost:8080/"
        },
        "id": "-2PF5t0OUKoF",
        "outputId": "f6da3b3d-fea5-4386-cb13-9b46f6e5b2c7"
      },
      "execution_count": 53,
      "outputs": [
        {
          "output_type": "stream",
          "name": "stdout",
          "text": [
            "✅ Model saved as sms_spam_model.pkl\n"
          ]
        }
      ]
    },
    {
      "cell_type": "code",
      "source": [],
      "metadata": {
        "id": "iEzqGtBpUPqT"
      },
      "execution_count": null,
      "outputs": []
    }
  ]
}